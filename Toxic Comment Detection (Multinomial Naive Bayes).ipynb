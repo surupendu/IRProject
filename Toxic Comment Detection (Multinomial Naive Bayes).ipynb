{
 "cells": [
  {
   "cell_type": "code",
   "execution_count": 71,
   "metadata": {
    "collapsed": true
   },
   "outputs": [],
   "source": [
    "import pandas as pd\n",
    "import numpy as np\n",
    "from sklearn.feature_extraction.text import TfidfVectorizer\n",
    "from sklearn.naive_bayes import MultinomialNB\n",
    "from sklearn.multiclass import OneVsRestClassifier\n",
    "from sklearn.model_selection import cross_val_score"
   ]
  },
  {
   "cell_type": "code",
   "execution_count": 67,
   "metadata": {
    "collapsed": true
   },
   "outputs": [],
   "source": [
    "df = pd.read_csv('D:/Kaggle/train.csv')\n",
    "df1 = pd.read_csv(('D:/Kaggle/test.csv'))\n",
    "df.comment_text = df.comment_text.fillna('')\n",
    "df1.comment_text = df1.comment_text.fillna('')"
   ]
  },
  {
   "cell_type": "code",
   "execution_count": 68,
   "metadata": {
    "collapsed": true
   },
   "outputs": [],
   "source": [
    "import re, string\n",
    "re_tok = re.compile(f'([{string.punctuation}“”¨«»®´·º½¾¿¡§£₤‘’])')\n",
    "def tokenize(s): return re_tok.sub(r' \\1 ', s).split()"
   ]
  },
  {
   "cell_type": "code",
   "execution_count": 69,
   "metadata": {
    "collapsed": true
   },
   "outputs": [],
   "source": [
    "cv = TfidfVectorizer(ngram_range=(2,2),tokenizer=tokenize,min_df=3,max_df=0.9,strip_accents='unicode',use_idf=1,smooth_idf=1,sublinear_tf=1)\n",
    "train_data = df.comment_text\n",
    "cv.fit(train_data)\n",
    "train_data = cv.transform(train_data)\n",
    "test_data = cv.transform(df1.comment_text)"
   ]
  },
  {
   "cell_type": "code",
   "execution_count": 72,
   "metadata": {
    "collapsed": true,
    "scrolled": true
   },
   "outputs": [],
   "source": [
    "class_names = ['toxic', 'severe_toxic', 'obscene', 'threat', 'insult', 'identity_hate']\n",
    "\n",
    "submission = pd.DataFrame.from_dict({'id': df1['id']})\n",
    "\n",
    "for class_name in  class_names:\n",
    "    train_label = df[class_name].astype('int')\n",
    "    \n",
    "    mnb = MultinomialNB()\n",
    "    cv_score = np.mean(cross_val_score(mnb, train_data, train_label, cv=3,scoring='roc_auc'))\n",
    "    \n",
    "    mnb.fit(train_data,train_label)\n",
    "    print(classname,cv_score)\n",
    "    submission[class_name] = mnb.predict_proba(test_data)[:,1]\n",
    "    \n",
    "\n",
    "submission.to_csv('D:\\Kaggle\\submission.csv',index=False)"
   ]
  }
 ],
 "metadata": {
  "kernelspec": {
   "display_name": "Python 3",
   "language": "python",
   "name": "python3"
  },
  "language_info": {
   "codemirror_mode": {
    "name": "ipython",
    "version": 3
   },
   "file_extension": ".py",
   "mimetype": "text/x-python",
   "name": "python",
   "nbconvert_exporter": "python",
   "pygments_lexer": "ipython3",
   "version": "3.6.3"
  }
 },
 "nbformat": 4,
 "nbformat_minor": 2
}
